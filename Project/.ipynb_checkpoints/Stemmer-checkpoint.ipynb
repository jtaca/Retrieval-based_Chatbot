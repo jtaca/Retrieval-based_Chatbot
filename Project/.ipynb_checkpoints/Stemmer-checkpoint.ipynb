{
 "cells": [
  {
   "cell_type": "code",
   "execution_count": null,
   "metadata": {},
   "outputs": [],
   "source": []
  },
  {
   "cell_type": "code",
   "execution_count": null,
   "metadata": {},
   "outputs": [],
   "source": []
  },
  {
   "cell_type": "code",
   "execution_count": 33,
   "metadata": {},
   "outputs": [
    {
     "name": "stderr",
     "output_type": "stream",
     "text": [
      "IOPub data rate exceeded.\n",
      "The notebook server will temporarily stop sending output\n",
      "to the client in order to avoid crashing it.\n",
      "To change this limit, set the config variable\n",
      "`--NotebookApp.iopub_data_rate_limit`.\n",
      "\n",
      "Current values:\n",
      "NotebookApp.iopub_data_rate_limit=1000000.0 (bytes/sec)\n",
      "NotebookApp.rate_limit_window=3.0 (secs)\n",
      "\n"
     ]
    }
   ],
   "source": [
    "import xml.etree.ElementTree as ET\n",
    "tree = ET.parse('KB.xml')\n",
    "root = tree.getroot()\n",
    "\n",
    "NumberOfQuestions = 0\n",
    "NumberOfAnswers = 0\n",
    "\n",
    "for documento in root:\n",
    "    for faq_list in documento:\n",
    "        for faq in faq_list:\n",
    "            for perguntas in faq:\n",
    "                if len(perguntas.attrib)!= 0:\n",
    "                    NumberOfAnswers+=1\n",
    "                for pergunta in perguntas:\n",
    "                    NumberOfQuestions += 1\n",
    "print(str(NumberOfQuestions)+' '+str(NumberOfAnswers))\n",
    "\n",
    "Matrix = [[0 for x in range(NumberOfQuestions)] for y in range(NumberOfAnswers)] \n",
    "\n",
    "QuestionNumber = 0\n",
    "AnswerNumber = 0\n",
    "\n",
    "Answers = []\n",
    "Questions = []\n",
    "\n",
    "for documento in root:\n",
    "    for faq_list in documento:\n",
    "        for faq in faq_list:\n",
    "            for perguntas in faq:\n",
    "                if len(perguntas.attrib)!= 0:\n",
    "                    print('\\n ID to return: '+perguntas.attrib['id'])\n",
    "                    answer_id = perguntas.attrib['id']\n",
    "                    answer = perguntas.text\n",
    "                    #print('\\n Answer: '+ answer +'  nº '+str(AnswerNumber))\n",
    "                    AnswerNumber+=1\n",
    "                QuestionNumber = 0\n",
    "                for pergunta in perguntas:\n",
    "                    #Answers[AnswerNumber][QuestionNumber] = pergunta.text\n",
    "                    Matrix[AnswerNumber][QuestionNumber] = pergunta.text\n",
    "                    #print('\\n '+str(QuestionNumber)+': '+pergunta.text)\n",
    "                    QuestionNumber += 1\n",
    "                    \n",
    "\n",
    "print(Matrix)"
   ]
  },
  {
   "cell_type": "code",
   "execution_count": 12,
   "metadata": {},
   "outputs": [
    {
     "name": "stdout",
     "output_type": "stream",
     "text": [
      "arabic danish dutch english finnish french german hungarian italian norwegian porter portuguese romanian russian spanish swedish\n"
     ]
    }
   ],
   "source": [
    "\n",
    "from nltk.stem.snowball import SnowballStemmer\n",
    "print(\" \".join(SnowballStemmer.languages))"
   ]
  },
  {
   "cell_type": "code",
   "execution_count": 17,
   "metadata": {},
   "outputs": [
    {
     "name": "stdout",
     "output_type": "stream",
     "text": [
      "disse-lh\n"
     ]
    }
   ],
   "source": [
    "stemmer = SnowballStemmer(\"portuguese\")\n",
    "print(stemmer.stem(\"disse-lhe\"))"
   ]
  },
  {
   "cell_type": "code",
   "execution_count": 18,
   "metadata": {},
   "outputs": [
    {
     "name": "stdout",
     "output_type": "stream",
     "text": [
      "disse-lh\n"
     ]
    }
   ],
   "source": [
    "print(SnowballStemmer(\"porter\").stem(\"disse-lhe\"))"
   ]
  },
  {
   "cell_type": "code",
   "execution_count": 22,
   "metadata": {},
   "outputs": [
    {
     "name": "stdout",
     "output_type": "stream",
     "text": [
      "[[0]\n",
      " [0]]\n"
     ]
    }
   ],
   "source": [
    "import numpy as np\n",
    "a = np.array([[0], [0]])\n",
    "a.add\n",
    "print(a)"
   ]
  },
  {
   "cell_type": "code",
   "execution_count": 32,
   "metadata": {},
   "outputs": [
    {
     "name": "stdout",
     "output_type": "stream",
     "text": [
      "[[0, 0, 0, 0, 0, 0, 0, 0], [0, 0, 0, 0, 0, 0, 0, 0], [0, 0, 0, 0, 0, 0, 0, 0], [0, 0, 0, 0, 0, 0, 0, 0], [0, 0, 0, 0, 0, 0, 0, 0]]\n"
     ]
    }
   ],
   "source": [
    "w, h = 8, 5;\n",
    "Matrix = [[0 for x in range(w)] for y in range(h)] \n",
    "print(Matrix)\n"
   ]
  },
  {
   "cell_type": "code",
   "execution_count": null,
   "metadata": {},
   "outputs": [],
   "source": []
  }
 ],
 "metadata": {
  "kernelspec": {
   "display_name": "Python 3",
   "language": "python",
   "name": "python3"
  },
  "language_info": {
   "codemirror_mode": {
    "name": "ipython",
    "version": 3
   },
   "file_extension": ".py",
   "mimetype": "text/x-python",
   "name": "python",
   "nbconvert_exporter": "python",
   "pygments_lexer": "ipython3",
   "version": "3.7.3"
  }
 },
 "nbformat": 4,
 "nbformat_minor": 2
}
